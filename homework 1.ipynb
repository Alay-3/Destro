import numpy as np
from numpy import array, dot, pi
import scipy.sparse as sp
from scipy.sparse.linalg import eigsh
from scipy.linalg import eigvals

def pauli_X():
    op=sp.csr_matrix([[0,1],[1,0]])
    return op

def pauli_Z():
    op=sp.csr_matrix([[1,0],[0,-1]])
    return op

def pauli_Y():
    op=sp.csr_matrix([[0,-1j],[1j,0]])
    return op
print(pauli_X()) 
import numpy as np

# Define the complex number c
numerator = 1 + 1j
denominator = 3 - 2j
c = numerator / denominator

# Compute the conjugate of c
c_conjugate = np.conjugate(c)

# Compute the dot product of c and its conjugate to get the norm squared
norm_squared = np.vdot(c, c)

# Compute the norm
norm = np.sqrt(norm_squared)

print("Numerical norm of c:", norm)
import numpy as np

# Define the matrix H
H = np.array([[2, 1 - 1j], [1 + 1j, 3]])

# Compute the eigenvalues and eigenvectors using numpy.linalg.eig
eigenvalues, eigenvectors = np.linalg.eig(H)

# Print the eigenvalues and eigenvectors
print("Eigenvalues of H:", eigenvalues)
print("Eigenvectors of H:", eigenvectors)
